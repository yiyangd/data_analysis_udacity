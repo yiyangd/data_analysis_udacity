{
 "cells": [
  {
   "cell_type": "markdown",
   "metadata": {},
   "source": [
    "citation analysis 引文分析=\n",
    ">coparing the relative importance of papers based on how many other research articles cite them\n",
    "\n"
   ]
  },
  {
   "cell_type": "raw",
   "metadata": {},
   "source": [
    "xml,json are data format\n",
    "xml == not document oriented, data is just data\n",
    "<person>\n",
    "    <age value=\"too young\" />\n",
    "    <experience value=\"too simple\" />\n",
    "    <result value=\"sometimes naive\" />\n",
    "</person>\n",
    "json\n",
    "{\n",
    "    \"age\":\"too young\",\n",
    "    \"experience\":\"too simple\",\n",
    "    \"result\":\"sometimes naive\"\n",
    "}"
   ]
  },
  {
   "cell_type": "code",
   "execution_count": 3,
   "metadata": {},
   "outputs": [
    {
     "name": "stdout",
     "output_type": "stream",
     "text": [
      "<Element 'art' at 0x10c9e1c78>\n",
      "\n",
      "Children of root:\n",
      "<Element 'ui' at 0x10c9e1ea8>\n",
      "ui\n",
      "<Element 'ji' at 0x10c9e1a48>\n",
      "ji\n",
      "<Element 'fm' at 0x10c9e1958>\n",
      "fm\n",
      "<Element 'bdy' at 0x10ca5cf48>\n",
      "bdy\n",
      "<Element 'bm' at 0x10c9d8048>\n",
      "bm\n"
     ]
    }
   ],
   "source": [
    "\n",
    "import xml.etree.ElementTree as ET\n",
    "import pprint\n",
    "article_file = \"exampleResearchArticle.xml\"\n",
    "tree = ET.parse(article_file)\n",
    "root = tree.getroot()\n",
    "print(root)\n",
    "print(\"\\nChildren of root:\")\n",
    "for child in root: #direct children\n",
    "    print(child)\n",
    "    print(child.tag)"
   ]
  },
  {
   "cell_type": "code",
   "execution_count": 11,
   "metadata": {},
   "outputs": [
    {
     "name": "stdout",
     "output_type": "stream",
     "text": [
      "\n",
      "Title:\n",
      " Standardization of the functional syndesmosis widening by dynamic U.S examination\n"
     ]
    }
   ],
   "source": [
    "# extracting the title \n",
    "title = root.find('./fm/bibl/title') #using an x path expression to specify where I expect to find a title element\n",
    "# ./ means start at the current element\n",
    "title_text = \"\"\n",
    "for p in title:\n",
    "    title_text += p.text\n",
    "print (\"\\nTitle:\\n\",title_text)"
   ]
  },
  {
   "cell_type": "code",
   "execution_count": 14,
   "metadata": {},
   "outputs": [
    {
     "name": "stdout",
     "output_type": "stream",
     "text": [
      "\n",
      "Author email addresses:\n",
      "[<Element 'au' at 0x10c9e1778>, <Element 'au' at 0x10c9e14f8>, <Element 'au' at 0x10c9e1408>, <Element 'au' at 0x10c9e11d8>, <Element 'au' at 0x10c8f64a8>, <Element 'au' at 0x10c8f6278>, <Element 'au' at 0x10c8e9ef8>, <Element 'au' at 0x10c8c5db8>]\n",
      "omer@extremegate.com\n",
      "mcarmont@hotmail.com\n",
      "laver17@gmail.com\n",
      "nyska@internet-zahav.net\n",
      "kammarh@gmail.com\n",
      "gideon.mann.md@gmail.com\n",
      "barns.nz@gmail.com\n",
      "eukots@gmail.com\n"
     ]
    }
   ],
   "source": [
    "print(\"\\nAuthor email addresses:\")\n",
    "print(root.findall('./fm/bibl/aug/au'))\n",
    "for a in root.findall('./fm/bibl/aug/au'):  #findall returns all of the elements that match x-path\n",
    "    email = a.find('email')\n",
    "    if email is not None:\n",
    "        print (email.text)"
   ]
  },
  {
   "cell_type": "code",
   "execution_count": 21,
   "metadata": {},
   "outputs": [
    {
     "name": "stdout",
     "output_type": "stream",
     "text": [
      "root: <Element 'art' at 0x10ca7cdb8>\n",
      "data\n",
      "[{'email': 'omer@extremegate.com', 'fnm': 'Omer', 'snm': 'Mei-Dan'},\n",
      " {'email': 'mcarmont@hotmail.com', 'fnm': 'Mike', 'snm': 'Carmont'},\n",
      " {'email': 'laver17@gmail.com', 'fnm': 'Lior', 'snm': 'Laver'},\n",
      " {'email': 'nyska@internet-zahav.net', 'fnm': 'Meir', 'snm': 'Nyska'},\n",
      " {'email': 'kammarh@gmail.com', 'fnm': 'Hagay', 'snm': 'Kammar'},\n",
      " {'email': 'gideon.mann.md@gmail.com', 'fnm': 'Gideon', 'snm': 'Mann'},\n",
      " {'email': 'barns.nz@gmail.com', 'fnm': 'Barnaby', 'snm': 'Clarck'},\n",
      " {'email': 'eukots@gmail.com', 'fnm': 'Eugene', 'snm': 'Kots'}]\n"
     ]
    }
   ],
   "source": [
    "#!/usr/bin/env python\n",
    "# Your task here is to extract data from xml on authors of an article\n",
    "# and add it to a list, one item for an author.\n",
    "# See the provided data structure for the expected format.\n",
    "# The tags for first name, surname and email should map directly\n",
    "# to the dictionary keys\n",
    "import pprint\n",
    "def get_root(fname):\n",
    "    tree = ET.parse(fname)\n",
    "    return tree.getroot()\n",
    "\n",
    "\n",
    "def get_authors(root):\n",
    "    authors = []\n",
    "    for author in root.findall('./fm/bibl/aug/au'):\n",
    "        data = {\n",
    "                \"fnm\": author.find('fnm').text,\n",
    "                \"snm\": author.find('snm').text,\n",
    "                \"email\": author.find('email').text\n",
    "        }\n",
    "\n",
    "        # YOUR CODE HERE\n",
    "\n",
    "        authors.append(data)\n",
    "\n",
    "    return authors\n",
    "\n",
    "\n",
    "def test():\n",
    "    solution = [{'fnm': 'Omer', 'snm': 'Mei-Dan', 'email': 'omer@extremegate.com'}, {'fnm': 'Mike', 'snm': 'Carmont', 'email': 'mcarmont@hotmail.com'}, {'fnm': 'Lior', 'snm': 'Laver', 'email': 'laver17@gmail.com'}, {'fnm': 'Meir', 'snm': 'Nyska', 'email': 'nyska@internet-zahav.net'}, {'fnm': 'Hagay', 'snm': 'Kammar', 'email': 'kammarh@gmail.com'}, {'fnm': 'Gideon', 'snm': 'Mann', 'email': 'gideon.mann.md@gmail.com'}, {'fnm': 'Barnaby', 'snm': 'Clarck', 'email': 'barns.nz@gmail.com'}, {'fnm': 'Eugene', 'snm': 'Kots', 'email': 'eukots@gmail.com'}]\n",
    "    \n",
    "    root = get_root(article_file)\n",
    "    print(\"root:\",root)\n",
    "    data = get_authors(root)\n",
    "    print(\"data\")\n",
    "    pprint.pprint(data)\n",
    "    assert data[0] == solution[0]\n",
    "    assert data[1][\"fnm\"] == solution[1][\"fnm\"]\n",
    "\n",
    "\n",
    "test()"
   ]
  },
  {
   "cell_type": "code",
   "execution_count": 26,
   "metadata": {},
   "outputs": [
    {
     "name": "stdout",
     "output_type": "stream",
     "text": [
      "[{'email': 'omer@extremegate.com',\n",
      "  'fnm': 'Omer',\n",
      "  'insr': ['I1'],\n",
      "  'snm': 'Mei-Dan'},\n",
      " {'email': 'mcarmont@hotmail.com',\n",
      "  'fnm': 'Mike',\n",
      "  'insr': ['I2'],\n",
      "  'snm': 'Carmont'},\n",
      " {'email': 'laver17@gmail.com',\n",
      "  'fnm': 'Lior',\n",
      "  'insr': ['I3', 'I4'],\n",
      "  'snm': 'Laver'},\n",
      " {'email': 'nyska@internet-zahav.net',\n",
      "  'fnm': 'Meir',\n",
      "  'insr': ['I3'],\n",
      "  'snm': 'Nyska'},\n",
      " {'email': 'kammarh@gmail.com',\n",
      "  'fnm': 'Hagay',\n",
      "  'insr': ['I8'],\n",
      "  'snm': 'Kammar'},\n",
      " {'email': 'gideon.mann.md@gmail.com',\n",
      "  'fnm': 'Gideon',\n",
      "  'insr': ['I3', 'I5'],\n",
      "  'snm': 'Mann'},\n",
      " {'email': 'barns.nz@gmail.com',\n",
      "  'fnm': 'Barnaby',\n",
      "  'insr': ['I6'],\n",
      "  'snm': 'Clarck'},\n",
      " {'email': 'eukots@gmail.com', 'fnm': 'Eugene', 'insr': ['I7'], 'snm': 'Kots'}]\n"
     ]
    }
   ],
   "source": [
    "#!/usr/bin/env python\n",
    "# Your task here is to extract data from xml on authors of an article\n",
    "# and add it to a list, one item for an author.\n",
    "# See the provided data structure for the expected format.\n",
    "# The tags for first name, surname and email should map directly\n",
    "# to the dictionary keys, but you have to extract the attributes from the \"insr\" tag\n",
    "# and add them to the list for the dictionary key \"insr\"\n",
    "import xml.etree.ElementTree as ET\n",
    "\n",
    "article_file = \"exampleResearchArticle.xml\"\n",
    "\n",
    "\n",
    "def get_root(fname):\n",
    "    tree = ET.parse(fname)\n",
    "    return tree.getroot()\n",
    "\n",
    "\n",
    "def get_authors(root):\n",
    "    authors = [] \n",
    "    for author in root.findall('./fm/bibl/aug/au'): #iterate everyone in authors\n",
    "        data = {\n",
    "                \"fnm\": author.find('fnm').text,\n",
    "                \"snm\": author.find('snm').text,\n",
    "                \"email\": author.find('email').text,\n",
    "                \"insr\":[]\n",
    "        }\n",
    "\n",
    "        insr = author.findall('insr')             # insr is not unique for one author so we use findall instead find\n",
    "        for i in insr:                            # iterate every items in insr\n",
    "            data[\"insr\"].append(i.attrib[\"iid\"])\n",
    "        authors.append(data)\n",
    "        #authors is a list of dictionaries\n",
    "    return authors\n",
    "\n",
    "\n",
    "def test():\n",
    "    solution = [{'insr': ['I1'], 'fnm': 'Omer', 'snm': 'Mei-Dan', 'email': 'omer@extremegate.com'},\n",
    "                {'insr': ['I2'], 'fnm': 'Mike', 'snm': 'Carmont', 'email': 'mcarmont@hotmail.com'},\n",
    "                {'insr': ['I3', 'I4'], 'fnm': 'Lior', 'snm': 'Laver', 'email': 'laver17@gmail.com'},\n",
    "                {'insr': ['I3'], 'fnm': 'Meir', 'snm': 'Nyska', 'email': 'nyska@internet-zahav.net'},\n",
    "                {'insr': ['I8'], 'fnm': 'Hagay', 'snm': 'Kammar', 'email': 'kammarh@gmail.com'},\n",
    "                {'insr': ['I3', 'I5'], 'fnm': 'Gideon', 'snm': 'Mann', 'email': 'gideon.mann.md@gmail.com'},\n",
    "                {'insr': ['I6'], 'fnm': 'Barnaby', 'snm': 'Clarck', 'email': 'barns.nz@gmail.com'},\n",
    "                {'insr': ['I7'], 'fnm': 'Eugene', 'snm': 'Kots', 'email': 'eukots@gmail.com'}]\n",
    "\n",
    "    root = get_root(article_file)\n",
    "    data = get_authors(root)\n",
    "    \n",
    "    assert data[0] == solution[0]\n",
    "    assert data[1][\"insr\"] == solution[1][\"insr\"]\n",
    "    pprint.pprint(data)\n",
    "\n",
    "test()\n"
   ]
  },
  {
   "cell_type": "code",
   "execution_count": null,
   "metadata": {
    "collapsed": true
   },
   "outputs": [],
   "source": []
  }
 ],
 "metadata": {
  "kernelspec": {
   "display_name": "Python 3",
   "language": "python",
   "name": "python3"
  },
  "language_info": {
   "codemirror_mode": {
    "name": "ipython",
    "version": 3
   },
   "file_extension": ".py",
   "mimetype": "text/x-python",
   "name": "python",
   "nbconvert_exporter": "python",
   "pygments_lexer": "ipython3",
   "version": "3.6.1"
  }
 },
 "nbformat": 4,
 "nbformat_minor": 2
}
