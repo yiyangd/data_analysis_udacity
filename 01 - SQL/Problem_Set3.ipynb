{
 "cells": [
  {
   "cell_type": "markdown",
   "metadata": {},
   "source": [
    "### Q1. How many invoices were received by 5 countries with the highest total invoices?\n",
    "\n",
    "\n",
    "``` SQL\n",
    "SELECT sum(total)\n",
    "From (\n",
    "SELECT COUNT(*) AS total\n",
    "FROM  Invoice\n",
    "GROUP BY BillingCountry\n",
    "ORDER BY total DESC\n",
    "LIMIT 5);\n",
    "```"
   ]
  },
  {
   "cell_type": "markdown",
   "metadata": {},
   "source": [
    "### Q2. Find customers whose total invoice amount is higher than the average. Return the city, state, country, and total\n",
    "``` SQL\n",
    "SELECT BillingCity, BillingState,BillingCountry,Total\n",
    "FROM Invoice,\n",
    "    (SELECT avg(Total) as average \n",
    "     FROM Invoice) as subquery\n",
    "WHERE Total > average;\n",
    "```\n"
   ]
  },
  {
   "cell_type": "markdown",
   "metadata": {},
   "source": [
    "### Q3. What is the name, city, state, country, and total of customers with above average invoice totals? \n",
    "``` SQL\n",
    "SELECT Firstname, Lastname,BillingCity, BillingState,BillingCountry,Total\n",
    "FROM Invoices\n",
    "JOIN Customer \n",
    "JOIN(\n",
    "     SELECT avg(Total) as average\n",
    "     FROM Invoice) as subquery\n",
    "WHERE Total > average;\n",
    "```"
   ]
  },
  {
   "cell_type": "markdown",
   "metadata": {
    "collapsed": true
   },
   "source": [
    "### Q4. Create Table"
   ]
  },
  {
   "cell_type": "code",
   "execution_count": null,
   "metadata": {
    "collapsed": true
   },
   "outputs": [],
   "source": [
    "##  After all the success promoting your music tour last section, \n",
    "##  a new friend has asked to partner up and build your own music website!\n",
    "##  You'll need to rebuild your own database and import the data to your new system.\n",
    "\n",
    "##  Let's first take a closer look at how to build and populate your local database.\n",
    "##  The box below shows the Album table schema including Primary and Foreign Keys.\n",
    "##  Have a look at this table and the CREATE TABLE statement below to see how they \n",
    "##  relate.\n",
    "\n",
    "'''\n",
    "First, disconnect from your Chinook database.\n",
    "> .exit\n",
    "\n",
    "Create a new database named whatever you'd like your store to be called.\n",
    "$ sqlite3 UdaciousMusic.db\n",
    "\n",
    "Now we can populate this database with our first table.\n",
    "\n",
    "Here's a graphic showing some information about the Album table.\n",
    "We can use this to build a table in our new database.\n",
    "\n",
    "######################################################################\n",
    "#                         Table: Album                               #\n",
    "######################################################################\n",
    "+--------------------+---------------+-----------------+--------------+\n",
    "|      Columns       |   Data Type   |    Primary Key  |  Foreign Key |\n",
    "+====================+===============+=================+==============+ \n",
    "|      AlbumId           INTEGER            YES              NO       |\n",
    "|      Title             TEXT               NO               NO       |\n",
    "|      ArtistId          INTEGER            NO               YES      |\n",
    "|      UnitPrice         REAL               NO               NO       |\n",
    "|      Quantity          INTEGER            NO               NO       |\n",
    "+====================+===============+=================+==============+ \n",
    "\n",
    "We can use this information to decide how our schema should look.\n",
    "Do you see how the schema below reflects the table above?\n",
    "\n",
    "CREATE TABLE Album\n",
    "(\n",
    "    AlbumId INTEGER PRIMARY KEY,\n",
    "    Title TEXT,\n",
    "    ArtistId INTEGER,\n",
    "    FOREIGN KEY (ArtistId) REFERENCES Artist (ArtistId) \n",
    ");\n",
    "\n",
    "Try pasting the schema into your local database.  \n",
    "Let's check to see if anything happened.\n",
    "\n",
    "sqlite> .tables\n",
    "Album <--- Do you see the Album table?  I hope so!\n",
    "\n",
    "Now, do we have any data in our new table?\n",
    "\n",
    "sqlite> SELECT * FROM Album;\n",
    "\n",
    "Do you see data?  I hope not, we haven't added any yet!\n",
    "\n",
    "Open the Album.sql tab.  You can copy and paste these lines directly into \n",
    "your sqlite terminal. (Use Ctrl+A or Command+A to select all lines when the\n",
    "code editor is selected to select all the lines at once.)\n",
    "\n",
    "Now try to run your query again.  You've got data... NICE!\n",
    "\n",
    "'''\n",
    "##  Use the previous example to help you construct the InvoiceLine table.\n",
    "##  When you're ready, run you query to CREATE and populate the InvoiceLine table \n",
    "##  using data from the InvoiceLine.sql file. \n",
    "\n",
    "QUERY='''CREATE TABLE InvoiceLine\n",
    "(\n",
    "    InvoiceLineId INTEGER PRIMARY KEY,\n",
    "    InvoiceId INTEGER,\n",
    "    TrackId INTEGER,\n",
    "    UnitPrice REAL,\n",
    "    Quantity INTEGER,\n",
    "    FOREIGN KEY (InvoiceId) REFERENCES Invoice (InvoiceId),\n",
    "    FOREIGN KEY (TrackId) REFERENCES Track (TrackId)\n",
    ");\n",
    "'''\n",
    "\n",
    "'''\n",
    "######################################################################\n",
    "#                         Table: InvoiceLine                         #\n",
    "######################################################################\n",
    "+--------------------+---------------+-----------------+--------------+\n",
    "|      Columns       |   Data Type   |    Primary Key  |  Foreign Key |\n",
    "+====================+===============+=================+==============+ \n",
    "|      InvoiceLineId     INTEGER            YES              NO       |\n",
    "|      InvoiceId         INTEGER            NO               YES      |\n",
    "|      TrackId           INTEGER            NO               YES      |\n",
    "|      UnitPrice         REAL               NO               NO       |\n",
    "|      Quantity          INTEGER            NO               NO       |\n",
    "+====================+===============+=================+==============+ \n",
    "'''\n",
    "\n",
    "##  These examples should help you build any remaining tables from the Chinook database.\n",
    "\n",
    "##  Use .schema when connected to the Chinook database to see the tables and columns \n",
    "##  in your Chinook database, and try recreating them in your new database.\n",
    "##  You can populate these tables using the sql files from the Downloadables section, or \n",
    "##  with CSV files, which you'll learn to do next!\n",
    "\n"
   ]
  },
  {
   "cell_type": "markdown",
   "metadata": {},
   "source": [
    "###      Export data as csv file\n",
    "``` SQL\n",
    "sqlite> .mode csv\n",
    "sqlite> .output newFile.csv\n",
    "sqlite> SELECT * FROM myTable;\n",
    "sqlite> .exit\n",
    "```\n",
    "###      Import CSV file into table\n",
    "``` SQL\n",
    "sqlite> new.db <--- create a new database\n",
    "sqlite> CREATE TABLE myTable() <--- create your table\n",
    "sqlite> .mode csv              <--- set mode (csv)\n",
    "sqlite> .import newFile.csv myTable\n",
    "```"
   ]
  },
  {
   "cell_type": "markdown",
   "metadata": {
    "collapsed": true
   },
   "source": []
  },
  {
   "cell_type": "code",
   "execution_count": null,
   "metadata": {
    "collapsed": true
   },
   "outputs": [],
   "source": []
  }
 ],
 "metadata": {
  "kernelspec": {
   "display_name": "Python 3",
   "language": "python",
   "name": "python3"
  },
  "language_info": {
   "codemirror_mode": {
    "name": "ipython",
    "version": 3
   },
   "file_extension": ".py",
   "mimetype": "text/x-python",
   "name": "python",
   "nbconvert_exporter": "python",
   "pygments_lexer": "ipython3",
   "version": "3.6.1"
  }
 },
 "nbformat": 4,
 "nbformat_minor": 2
}
