{
 "cells": [
  {
   "cell_type": "markdown",
   "metadata": {},
   "source": [
    "## Normalized Design\n",
    "> In a normalized database, the relationships among the tables match the relationships that are really there among the data.\n",
    "\n",
    "###### 1. Every row has the same number of columns.\n",
    "###### 2. There is a [unique] key, and everything in a row says something about the key.\n",
    "###### 3. Facts that don't relate to the key belong in different tables\n",
    "###### 4. Tables shouldn't imply relationships that don't exist"
   ]
  },
  {
   "cell_type": "code",
   "execution_count": null,
   "metadata": {
    "collapsed": true
   },
   "outputs": [],
   "source": [
    "# create table and types\n",
    "create table TABLENAME(\n",
    "    column1 type [constraints],\n",
    "    column2 type [constraints],\n",
    "    ……\n",
    "    [row constraints]);"
   ]
  },
  {
   "cell_type": "code",
   "execution_count": null,
   "metadata": {
    "collapsed": true
   },
   "outputs": [],
   "source": [
    "# creating and dropping\n",
    "create database name[options];\n",
    "drop database name[options];\n",
    "drop table name[options];\n",
    "# postgreSQL docs."
   ]
  },
  {
   "cell_type": "markdown",
   "metadata": {},
   "source": [
    "### primary key:\n",
    "> a column or columns that uniquely identify what each row in a table is about"
   ]
  },
  {
   "cell_type": "code",
   "execution_count": null,
   "metadata": {
    "collapsed": true
   },
   "outputs": [],
   "source": [
    "# declaring primary keys\n",
    "create table students(\n",
    "    id serial primary key,\n",
    "    name text,\n",
    "    birthdate date\n",
    ");\n",
    "# multi-column primary key\n",
    "create table postal_places(\n",
    "    postal_code text,\n",
    "    country text,\n",
    "    name text,\n",
    "    primary key(postal_code,country)\n",
    ");"
   ]
  },
  {
   "cell_type": "markdown",
   "metadata": {},
   "source": [
    "### Reference\n",
    "> references provides referential integrity --columns that are supposed to refer to each other are guaranteed to do so."
   ]
  },
  {
   "cell_type": "code",
   "execution_count": null,
   "metadata": {
    "collapsed": true
   },
   "outputs": [],
   "source": [
    "# Declaring Relationships\n",
    "create table sales(\n",
    "    sku text references products(sku),\n",
    "    sale_date date,\n",
    "    count integer);\n"
   ]
  },
  {
   "cell_type": "markdown",
   "metadata": {},
   "source": [
    "### Foreign Keys\n",
    "> A foreign key is a column or set of columns in one table, that uniquely identifies rows in another table."
   ]
  },
  {
   "cell_type": "code",
   "execution_count": null,
   "metadata": {
    "collapsed": true
   },
   "outputs": [],
   "source": [
    "create table students(\n",
    "    id serial primary key,\n",
    "    name text);\n",
    "create table courses(\n",
    "    id text primary key,\n",
    "    name text);\n",
    "create table grades(\n",
    "    student integer references students(id),\n",
    "    course text references courses(id),\n",
    "    grade text)"
   ]
  },
  {
   "cell_type": "code",
   "execution_count": null,
   "metadata": {
    "collapsed": true
   },
   "outputs": [],
   "source": [
    "# Self Joins\n",
    "select a.id, b.id\n",
    "from residences as a,\n",
    "     residences as b\n",
    "where\n",
    "    a.building = b.building\n",
    "and a.room = b.room "
   ]
  },
  {
   "cell_type": "code",
   "execution_count": null,
   "metadata": {
    "collapsed": true
   },
   "outputs": [],
   "source": [
    "#\n",
    "# Roommate Finder v0.9\n",
    "#\n",
    "# This query is intended to find pairs of roommates.  It almost works!\n",
    "# There's something not quite right about it, though.  Find and fix the bug.\n",
    "#\n",
    "\n",
    "QUERY = '''\n",
    "select a.id, b.id, a.building, a.room\n",
    "       from residences as a, residences as b\n",
    " where a.building = b.building\n",
    "   and a.room = b.room\n",
    "   and a.id < b.id     \n",
    "\n",
    " order by a.building, a.room;\n",
    "'''\n",
    "\n",
    "#\n",
    "# To see the complete residences table, uncomment this query and press \"Test Run\":\n",
    "#\n",
    "# QUERY = \"select id, building, room from residences;\"\n",
    "# "
   ]
  },
  {
   "cell_type": "markdown",
   "metadata": {},
   "source": [
    "# Count\n",
    "\n",
    "```SQL\n",
    "SELECT count(*) FROM animals; \n",
    "#return the amount of animals\n",
    "SELECT count(*) FROM animals\n",
    "WHERE species = 'gorilla';\n",
    "#return the amount of gorilla\n",
    "SELECT species,count(*) from animals \n",
    "GROUP BY species;\n",
    "#return species and corresponding amount of\n",
    "each speices\n",
    "```\n",
    "\n",
    "\n",
    "# Count non-existed value as 0"
   ]
  },
  {
   "cell_type": "code",
   "execution_count": null,
   "metadata": {
    "collapsed": true
   },
   "outputs": [],
   "source": [
    "# In this quiz, there's a table describing bugs in various files of code.\n",
    "# Here's what the table looks like:\n",
    "#\n",
    "# create table programs (\n",
    "#    name text,\n",
    "#    filename text\n",
    "# );\n",
    "# create table bugs (\n",
    "#    filename text,\n",
    "#    description text,\n",
    "#    id serial primary key\n",
    "# );\n",
    "#\n",
    "# The query below is intended to count the number of bugs in each program. But\n",
    "# it doesn't return a row for any program that has zero bugs.  Try running it as\n",
    "# it is; then change it so that it includes rows for the programs with no bugs.\n",
    "\n",
    "QUERY = '''\n",
    "select programs.name, count(bugs.filename) as num\n",
    "   from programs left join bugs\n",
    "        on programs.filename = bugs.filename\n",
    "   group by programs.name\n",
    "   order by num;\n",
    "'''\n"
   ]
  },
  {
   "cell_type": "markdown",
   "metadata": {},
   "source": [
    ">注意事项：在 count 聚合函数中放入哪些参数？如果保留 count(*) <br>\n",
    "不变或者将 programs 表中的某一列作为其参数，查询将对有缺陷和无缺陷的程序进行计数。\n",
    "\n",
    ">要为在 bugs 表中没有任何条目的程序报告零值，则必须将 bugs 表中的列作为 count 的参数。例如，count(bugs.filename) 和 count(bugs.description) 均具有此作用。"
   ]
  },
  {
   "cell_type": "markdown",
   "metadata": {},
   "source": [
    "# DB-API"
   ]
  },
  {
   "cell_type": "code",
   "execution_count": null,
   "metadata": {
    "collapsed": true
   },
   "outputs": [],
   "source": [
    "# To see how the various functions in the DB-API work, take a look at this code,\n",
    "# then the results that it prints when you press \"Test Run\".\n",
    "#\n",
    "# Then modify this code so that the student records are fetched in sorted order\n",
    "# by student's name.\n",
    "#\n",
    "\n",
    "import sqlite3\n",
    "\n",
    "# Fetch some student records from the database.\n",
    "db = sqlite3.connect(\"students\")\n",
    "c = db.cursor()\n",
    "query = \"select name, id from students;\"\n",
    "c.execute(query)\n",
    "rows = c.fetchall()\n",
    "\n",
    "# First, what data structure did we get?\n",
    "print \"Row data:\"\n",
    "print rows\n",
    "\n",
    "# And let's loop over it too:\n",
    "print\n",
    "print \"Student names:\"\n",
    "for row in rows:\n",
    "    print \"  \", row[0]\n",
    "\n",
    "db.close()\n"
   ]
  },
  {
   "cell_type": "code",
   "execution_count": null,
   "metadata": {
    "collapsed": true
   },
   "outputs": [],
   "source": [
    "import sqlite3\n",
    "conn = sqlite3.connect(\"Cookies\")\n",
    "cursor = conn.cursor()\n",
    "# The cursor is what actually runs queries and fetches results\n",
    "# It's called a cursor because when the database gives you results\n",
    "# you use the cursor to scan through the results, kind of like a \n",
    "# text cursor in an editor\n",
    "\n",
    "cursor.execute(\n",
    "\"SELECT host_key FROM Cookies limit 10\")\n",
    "\n",
    "# execute a query using a cursor,\n",
    "results = cursor.fetchall()\n",
    "# fetchall the results from that query also using the cursor\n",
    "\n",
    "print(results)\n",
    "conn.close()"
   ]
  },
  {
   "cell_type": "code",
   "execution_count": null,
   "metadata": {
    "collapsed": true
   },
   "outputs": [],
   "source": [
    "#Inserts in DB-API\n",
    "pg = psycopg2.connect(\"dbname=somedb\")\n",
    "c = pg.cursor()\n",
    "c.execute(\"insert into names values('Jennifer')\")\n",
    "pg.commit()\n",
    "# by adding commit, you can make sure that your \n",
    "# changes get saved.\n",
    "# one nice thing about transactions and rollbacks\n",
    "# is that your code crashes in the middle of a database\n",
    "# transaction, you can be sure that it won't have writte\n",
    "# half-finished changes."
   ]
  },
  {
   "cell_type": "markdown",
   "metadata": {},
   "source": [
    "atomicity\n",
    "> A transaction happens as a whole or not at all."
   ]
  },
  {
   "cell_type": "markdown",
   "metadata": {},
   "source": [
    "# Subquery\n",
    "##### Average high-scorer's score:\n",
    "```SQL\n",
    "SELECT avg(bigscore)\n",
    "FROM\n",
    "    (SELECT max(score) as bigscore\n",
    "    FROM mooseball\n",
    "    GROUP BY team) as maxes\n",
    "```\n",
    "    # the syntax of sql requires that we give\n",
    "    the subquery result table a name, (maxes)"
   ]
  },
  {
   "cell_type": "markdown",
   "metadata": {},
   "source": [
    "```SQL\n",
    "SELECT name,weight FROM players,\n",
    "    (SELECT avg(weight) as av\n",
    "    FROM plyers) as subq \n",
    "WHERE weight < av;\n",
    "```"
   ]
  },
  {
   "cell_type": "markdown",
   "metadata": {},
   "source": [
    "# Views\n",
    "> A view is a select query stored in the database in a way that lets you use it like a table \n",
    "<br>(refactor the tough query)\n",
    "\n",
    "### create view VIEWNAME as select...\n",
    "       view are really useful with aggregations like counts or sums\n",
    "       \n",
    "### How many students are enrolled in each course? (table enrollment with column student_id and course_id)\n",
    "```SQL\n",
    "create view course_size as\n",
    "SELECT course_id,count(*) as num\n",
    "FROM enrollment\n",
    "GROUP BY course_id;\n",
    "```"
   ]
  },
  {
   "cell_type": "code",
   "execution_count": null,
   "metadata": {
    "collapsed": true
   },
   "outputs": [],
   "source": []
  }
 ],
 "metadata": {
  "kernelspec": {
   "display_name": "Python 3",
   "language": "python",
   "name": "python3"
  },
  "language_info": {
   "codemirror_mode": {
    "name": "ipython",
    "version": 3
   },
   "file_extension": ".py",
   "mimetype": "text/x-python",
   "name": "python",
   "nbconvert_exporter": "python",
   "pygments_lexer": "ipython3",
   "version": "3.6.1"
  }
 },
 "nbformat": 4,
 "nbformat_minor": 2
}
